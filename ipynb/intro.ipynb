{
 "cells": [
  {
   "cell_type": "markdown",
   "source": [
    "# I am Learning to do ML projects"
   ],
   "metadata": {}
  },
  {
   "cell_type": "markdown",
   "source": [
    "## Use a hash before text in markdowns to create headings"
   ],
   "metadata": {}
  },
  {
   "cell_type": "markdown",
   "source": [
    "### More the hashes, smaller the text"
   ],
   "metadata": {}
  },
  {
   "cell_type": "markdown",
   "source": [
    "<H1><b><i>You can also use basic HTML tags</i></b></H1>"
   ],
   "metadata": {}
  },
  {
   "cell_type": "markdown",
   "source": [
    "* single asterisk for bullet"
   ],
   "metadata": {}
  },
  {
   "cell_type": "markdown",
   "source": [
    "*putting an asterisk both sides without space will make it itallics*"
   ],
   "metadata": {}
  },
  {
   "cell_type": "markdown",
   "source": [
    "**Double asterisk for bold**"
   ],
   "metadata": {}
  },
  {
   "cell_type": "markdown",
   "source": [
    "~~Double WA-strikethrough/tilde for strikethrough~~"
   ],
   "metadata": {}
  },
  {
   "cell_type": "markdown",
   "source": [
    "$e^{i\\pi} + 1 = 0$\n",
    "\n",
    "### The above is a latex... used for putting mathematical equations in markdown by enclosing the equation by dollar signs, curly brackets are used for sticking numbers together."
   ],
   "metadata": {}
  },
  {
   "cell_type": "markdown",
   "source": [
    "### This is how we type a matrix ###\n",
    "\n",
    "*Enclosed by two dollar signs and a backSlash-begin-or-end-inCurlyBrackets-matrix*\n",
    "\n",
    "append matrix with b to get bmatrix to add brackets\n",
    "\n",
    "$$\\begin{bmatrix} a & b \\\\ c & d \\end{bmatrix}$$"
   ],
   "metadata": {}
  },
  {
   "cell_type": "code",
   "execution_count": 1,
   "source": [
    "lamb=\"Hello\""
   ],
   "outputs": [],
   "metadata": {}
  },
  {
   "cell_type": "code",
   "execution_count": 2,
   "source": [
    "lamb.join(\"Akshay\")"
   ],
   "outputs": [
    {
     "output_type": "execute_result",
     "data": {
      "text/plain": [
       "'AHellokHellosHellohHelloaHelloy'"
      ]
     },
     "metadata": {},
     "execution_count": 2
    }
   ],
   "metadata": {}
  },
  {
   "cell_type": "code",
   "execution_count": 3,
   "source": [
    "message=(\"{} {}! we hope to see you alive when we arive there.\").format(lamb,\"Akshay\")"
   ],
   "outputs": [],
   "metadata": {}
  },
  {
   "cell_type": "code",
   "execution_count": 4,
   "source": [
    "print(message)"
   ],
   "outputs": [
    {
     "output_type": "stream",
     "name": "stdout",
     "text": [
      "Hello Akshay! we hope to see you alive when we arive there.\n"
     ]
    }
   ],
   "metadata": {}
  },
  {
   "cell_type": "code",
   "execution_count": null,
   "source": [],
   "outputs": [],
   "metadata": {}
  },
  {
   "cell_type": "code",
   "execution_count": null,
   "source": [],
   "outputs": [],
   "metadata": {}
  },
  {
   "cell_type": "code",
   "execution_count": null,
   "source": [],
   "outputs": [],
   "metadata": {}
  }
 ],
 "metadata": {
  "kernelspec": {
   "name": "python3",
   "display_name": "Python 3.9.7 64-bit"
  },
  "language_info": {
   "codemirror_mode": {
    "name": "ipython",
    "version": 3
   },
   "file_extension": ".py",
   "mimetype": "text/x-python",
   "name": "python",
   "nbconvert_exporter": "python",
   "pygments_lexer": "ipython3",
   "version": "3.9.7"
  },
  "metadata": {
   "interpreter": {
    "hash": "aee8b7b246df8f9039afb4144a1f6fd8d2ca17a180786b69acc140d282b71a49"
   }
  },
  "interpreter": {
   "hash": "aee8b7b246df8f9039afb4144a1f6fd8d2ca17a180786b69acc140d282b71a49"
  }
 },
 "nbformat": 4,
 "nbformat_minor": 2
}